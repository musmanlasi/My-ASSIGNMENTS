{
 "cells": [
  {
   "cell_type": "code",
   "execution_count": 1,
   "metadata": {},
   "outputs": [
    {
     "name": "stdout",
     "output_type": "stream",
     "text": [
      "552.0\n"
     ]
    }
   ],
   "source": [
    "# ASSIGNMENT (Operator Equation using pemdas)\n",
    "#Eq-1 \n",
    "\n",
    "a = 25*5-(28/4)+48-26*2+72-(3*8)/3+36-12+(65-9)+56-22*5+(348/1)\n",
    "\n",
    "print (a)\n"
   ]
  },
  {
   "cell_type": "raw",
   "metadata": {},
   "source": [
    "# ASSIGNMENT (Operator Equation using pemdas)\n",
    "#Eq-1\n",
    "\n",
    "a = 25 * 5 - (28 / 4) + 48 - 26 * 2 + 72 - (3 * 8) / 3 + 36 - 12 + (65 - 9) + 56 - 22 * 5 + (348 / 1)\n",
    "\n",
    "solution:\n",
    "a = 25 * 5 - 7 + 48 - 26 * 2 + 72 - 18 / 3 + 36 - 12 + 54 + 56 - 22 * 5 + 348\n",
    "a = 125 - 7 + 48 - 52 + 72 - 18 / 3 + 36 - 12 + 54 + 56 - 110 + 348\n",
    "a = 125 - 7 + 48 - 52 + 72 - 6 + 36 - 12 + 54 + 56 - 110 + 348\n",
    "a = 739 - 7 - 52 - 6 - 12 - 110\n",
    "a = 739 - 187\n",
    "a = 552.0\n",
    "\tAns,\n"
   ]
  },
  {
   "cell_type": "code",
   "execution_count": 48,
   "metadata": {},
   "outputs": [
    {
     "name": "stdout",
     "output_type": "stream",
     "text": [
      "82.0\n"
     ]
    }
   ],
   "source": [
    "# ASSIGNMENT (Operator Equation using pemdas)\n",
    "#Eq-2\n",
    "b = 20/5-(25*2)+7*5-(16/4)+(42*2)-4*8+(74/2)-4*1+6*2\n",
    "print (b)\n",
    " \n"
   ]
  },
  {
   "cell_type": "raw",
   "metadata": {},
   "source": [
    "# ASSIGNMENT (Operator Equation using pemdas)\n",
    "#Eq-2\n",
    "b = 20/5-(25*2)+7*5-(16/4)+(42*2)-4*8+(74/2)-4*1+6*2\n",
    "\n",
    "solution :\n",
    "b = 20 / 5 - 50 + 7 * 5 - 4 + 84 - 4 * 8 + 37 - 4 * 1 + 6 * 2 \n",
    "b = 20 / 5 - 50 + 35 - 4 + 84 - 32 + 37 - 4 + 12\n",
    "b = 4 - 50 + 35 - 4 + 84  - 32 + 37 - 4 + 12\n",
    "b = 172 - 50 - 4 - 32 - 4\n",
    "b = 172 - 90 \n",
    "b = 82.0\n",
    "        Ans..\n"
   ]
  },
  {
   "cell_type": "code",
   "execution_count": null,
   "metadata": {},
   "outputs": [],
   "source": []
  }
 ],
 "metadata": {
  "kernelspec": {
   "display_name": "Python 3",
   "language": "python",
   "name": "python3"
  },
  "language_info": {
   "codemirror_mode": {
    "name": "ipython",
    "version": 3
   },
   "file_extension": ".py",
   "mimetype": "text/x-python",
   "name": "python",
   "nbconvert_exporter": "python",
   "pygments_lexer": "ipython3",
   "version": "3.7.3"
  }
 },
 "nbformat": 4,
 "nbformat_minor": 2
}
