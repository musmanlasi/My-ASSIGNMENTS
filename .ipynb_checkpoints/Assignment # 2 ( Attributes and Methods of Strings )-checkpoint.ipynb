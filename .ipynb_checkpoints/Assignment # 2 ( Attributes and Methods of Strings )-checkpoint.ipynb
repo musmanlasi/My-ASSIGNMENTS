{
 "cells": [
  {
   "cell_type": "markdown",
   "metadata": {},
   "source": [
    "# Strings methods and attributes of Python :"
   ]
  },
  {
   "cell_type": "code",
   "execution_count": 9,
   "metadata": {
    "scrolled": true
   },
   "outputs": [
    {
     "name": "stdout",
     "output_type": "stream",
     "text": [
      "   muhammad usman    \n",
      "   MUHAMMAD USMAN    \n",
      "   muhammad usman    \n",
      "   Muhammad Usman    \n",
      "   muhammad usman    \n",
      "     Muhammad Usman      \n",
      "4\n",
      "-1\n",
      "0\n",
      "3\n",
      "1\n",
      "b'   Muhammad Usman    '\n",
      "False\n",
      "False\n",
      "   Muhammad Usman    \n",
      "   Muhammad USMAN    \n",
      "   Muhammad Usman    \n",
      "['Muhammad', 'Usman']\n",
      "['Muhammad', 'Usman']\n",
      "['', '']\n",
      "['   Muhammad Usman    ']\n",
      "False\n",
      "0\n",
      "False\n",
      "False\n",
      "False\n",
      "False\n",
      "False\n",
      "True\n",
      "False\n",
      "False\n",
      "True\n",
      "False\n",
      "    Muhammad Usman        Muhammad Usman        Muhammad Usman    M   Muhammad Usman    u   Muhammad Usman    h   Muhammad Usman    a   Muhammad Usman    m   Muhammad Usman    m   Muhammad Usman    a   Muhammad Usman    d   Muhammad Usman        Muhammad Usman    U   Muhammad Usman    s   Muhammad Usman    m   Muhammad Usman    a   Muhammad Usman    n   Muhammad Usman        Muhammad Usman        Muhammad Usman        Muhammad Usman     \n",
      "Muhammad Usman    \n",
      "   Muhammad Usman\n",
      "   muhammad usman    \n",
      "('', '   Muhammad Usman    ', '')\n",
      "('', '   Muhammad Usman    ', '')\n",
      "0\n",
      "0\n",
      "   mUHAMMAD uSMAN    \n",
      "   Muhammad Usman    \n",
      "00000000000000000000000000000   Muhammad Usman    \n",
      "   Muhammad Usman    \n",
      "<class 'str'>\n",
      "'   Muhammad Usman    '\n",
      "True\n",
      "True\n",
      "True\n",
      "b''\n",
      "bytearray(b'')\n",
      "21\n",
      "\n",
      "<reversed object at 0x00000002E6727F28>\n",
      "0\n",
      "<str_iterator object at 0x00000002E6727F28>\n",
      " \n",
      "u\n",
      "<class 'slice'>\n",
      "[' ', ' ', ' ', ' ', ' ', ' ', ' ', ' ', 'M', 'U', 'a', 'a', 'a', 'd', 'h', 'm', 'm', 'm', 'n', 's', 'u']\n",
      "<zip object at 0x00000002E58B2FC8>\n"
     ]
    }
   ],
   "source": [
    "a = \"   Muhammad Usman    \"\n",
    "print(a.casefold())\n",
    "print(a.upper())\n",
    "print(a.capitalize())\n",
    "print(a.title())\n",
    "print(a.lower())\n",
    "print(a.center(25))\n",
    "print(a.find(\"u\"))\n",
    "print(a.find(\"w\"))\n",
    "print(a.count(\"06\"))\n",
    "print(a.count(\"m\"))\n",
    "print(a.count(\"n\"))\n",
    "print(a.encode())\n",
    "print(a.startswith(\" Muhammad\"))\n",
    "print(a.endswith(\"Usman\"))\n",
    "print(a.format(a))\n",
    "print(a.replace(\"Usman\",\"USMAN\"))\n",
    "print(a.format_map(a))\n",
    "print(a.split())\n",
    "print(a.rsplit())\n",
    "print(a.split(a))\n",
    "print(a.splitlines())\n",
    "print(a.isdigit())\n",
    "print(a.index(a))\n",
    "print(a.isalnum())\n",
    "print(a.isalpha())\n",
    "print(a.isdecimal())\n",
    "print(a.islower())\n",
    "print(a.isidentifier())\n",
    "print(a.isprintable())\n",
    "print(a.isnumeric())\n",
    "print(a.isspace())\n",
    "print(a.istitle())\n",
    "print(a.isupper())\n",
    "print(a.join(a))\n",
    "print(a.lstrip())\n",
    "print(a.rstrip())\n",
    "print(a.lower())\n",
    "print(a.partition(a))\n",
    "print(a.rpartition(a))\n",
    "print(a.rfind(a))\n",
    "print(a.rindex(a))\n",
    "print(a.swapcase())\n",
    "print(a.translate(a))\n",
    "print(a.zfill(50))\n",
    "print(a.expandtabs(45))\n",
    "print(type(a))\n",
    "print(ascii(a))\n",
    "print(any(a))\n",
    "print(bool(a))\n",
    "print(all(a))\n",
    "print(bytes())\n",
    "print(bytearray())\n",
    "float()\n",
    "print(len(a))\n",
    "input()\n",
    "print(reversed(a))\n",
    "print(int())\n",
    "print(iter(a))\n",
    "print(min(a))\n",
    "print(max(a))\n",
    "print(slice) \n",
    "print(sorted(a)) \n",
    "print(zip(a)) \n",
    "\n",
    "\n",
    "\n",
    "\n",
    "\n"
   ]
  },
  {
   "cell_type": "code",
   "execution_count": 10,
   "metadata": {},
   "outputs": [
    {
     "name": "stdout",
     "output_type": "stream",
     "text": [
      "32\n",
      "20\n"
     ]
    }
   ],
   "source": [
    "a = \"my name is muhammad usman and i am a pakistani\"\n",
    "print(a.rfind(\"am\"))\n",
    "print(a.rfind(\"usman\"))"
   ]
  },
  {
   "cell_type": "code",
   "execution_count": 11,
   "metadata": {
    "scrolled": true
   },
   "outputs": [
    {
     "name": "stdout",
     "output_type": "stream",
     "text": [
      "this course is based on these document files which effects.^^ok!\n",
      "this course is based on these document files which effects. ok!^^this course is based on these document files which effects.******ok!\n"
     ]
    }
   ],
   "source": [
    "print(\"this course is based on these document files which effects.\",\"ok!\",sep=\"^^\"\n",
    ")\n",
    "print(\"this course is based on these document files which effects.\",\"ok!\",end =\"^^\"\n",
    ")\n",
    "print(\"this course is based on these document files which effects.\",\"ok!\",sep =\"******\"\n",
    ")"
   ]
  },
  {
   "cell_type": "code",
   "execution_count": 12,
   "metadata": {},
   "outputs": [
    {
     "ename": "NameError",
     "evalue": "name 'b' is not defined",
     "output_type": "error",
     "traceback": [
      "\u001b[1;31m---------------------------------------------------------------------------\u001b[0m",
      "\u001b[1;31mNameError\u001b[0m                                 Traceback (most recent call last)",
      "\u001b[1;32m<ipython-input-12-209b8d71dd4b>\u001b[0m in \u001b[0;36m<module>\u001b[1;34m\u001b[0m\n\u001b[1;32m----> 1\u001b[1;33m \u001b[0mc\u001b[0m \u001b[1;33m=\u001b[0m \u001b[0mb\u001b[0m\u001b[1;33m.\u001b[0m\u001b[0mreplace\u001b[0m\u001b[1;33m(\u001b[0m\u001b[1;34m\"document files\"\u001b[0m\u001b[1;33m,\u001b[0m \u001b[1;34m\"tutorials\"\u001b[0m\u001b[1;33m)\u001b[0m\u001b[1;33m\u001b[0m\u001b[1;33m\u001b[0m\u001b[0m\n\u001b[0m\u001b[0;32m      2\u001b[0m \u001b[0mprint\u001b[0m \u001b[1;33m(\u001b[0m\u001b[0mc\u001b[0m\u001b[1;33m)\u001b[0m\u001b[1;33m\u001b[0m\u001b[1;33m\u001b[0m\u001b[0m\n",
      "\u001b[1;31mNameError\u001b[0m: name 'b' is not defined"
     ]
    }
   ],
   "source": [
    "c = b.replace(\"document files\", \"tutorials\")\n",
    "print (c)"
   ]
  },
  {
   "cell_type": "code",
   "execution_count": 13,
   "metadata": {},
   "outputs": [
    {
     "name": "stdout",
     "output_type": "stream",
     "text": [
      "i\n",
      "d\n",
      "e\n"
     ]
    }
   ],
   "source": [
    "b = \"this course is based on these document files which effects.\"\n",
    "print(b[2]) \n",
    "print(b[19]) \n",
    "print(b[35]) "
   ]
  },
  {
   "cell_type": "code",
   "execution_count": 14,
   "metadata": {},
   "outputs": [
    {
     "name": "stdout",
     "output_type": "stream",
     "text": [
      "this course\n",
      "based on these\n",
      "document files \n"
     ]
    }
   ],
   "source": [
    "print(b[0:11]) \n",
    "print(b[15:29])\n",
    "print(b[30:45])"
   ]
  },
  {
   "cell_type": "code",
   "execution_count": 15,
   "metadata": {},
   "outputs": [
    {
     "name": "stdout",
     "output_type": "stream",
     "text": [
      "pakistan is going to enter the world of technological revolution\n"
     ]
    }
   ],
   "source": [
    "x = \"pakistan is going to enter the world of technological revolution\"\n",
    "print(x)\n",
    "x\n",
    "del (x)\n"
   ]
  },
  {
   "cell_type": "code",
   "execution_count": 16,
   "metadata": {},
   "outputs": [
    {
     "name": "stdout",
     "output_type": "stream",
     "text": [
      "opera  mini\n"
     ]
    }
   ],
   "source": [
    "q = \"opera \"\n",
    "r = \" mini\"\n",
    "print (q + r)"
   ]
  },
  {
   "cell_type": "code",
   "execution_count": 17,
   "metadata": {},
   "outputs": [
    {
     "name": "stdout",
     "output_type": "stream",
     "text": [
      "opera opera opera opera opera \n",
      " mini mini mini mini mini\n"
     ]
    }
   ],
   "source": [
    "print(q*5)\n",
    "print(r*5)"
   ]
  },
  {
   "cell_type": "code",
   "execution_count": 18,
   "metadata": {},
   "outputs": [
    {
     "name": "stdout",
     "output_type": "stream",
     "text": [
      "p\n",
      "per\n"
     ]
    }
   ],
   "source": [
    "print (q[1])\n",
    "print(q[1:4])"
   ]
  },
  {
   "cell_type": "code",
   "execution_count": 19,
   "metadata": {},
   "outputs": [
    {
     "name": "stdout",
     "output_type": "stream",
     "text": [
      "False\n",
      "True\n",
      "False\n"
     ]
    }
   ],
   "source": [
    "stars = 'Anaconda'\n",
    "print ('c' not in stars)\n",
    "print ('c'in stars)\n",
    "print ('z'in stars)"
   ]
  },
  {
   "cell_type": "code",
   "execution_count": 20,
   "metadata": {},
   "outputs": [
    {
     "name": "stdout",
     "output_type": "stream",
     "text": [
      "\\n\n"
     ]
    }
   ],
   "source": [
    "print (R'\\n')"
   ]
  },
  {
   "cell_type": "code",
   "execution_count": 21,
   "metadata": {},
   "outputs": [
    {
     "name": "stdout",
     "output_type": "stream",
     "text": [
      "\"syntax errors\" may occurs because of typing mistakes\n"
     ]
    }
   ],
   "source": [
    "print ( \"\\\"syntax errors\\\" may occurs because of typing mistakes\")"
   ]
  },
  {
   "cell_type": "code",
   "execution_count": 22,
   "metadata": {},
   "outputs": [
    {
     "name": "stdout",
     "output_type": "stream",
     "text": [
      "\"syntax errors\" may occurs \t because of typing mistakes\n",
      "\"syntax errors\" may occurs \n",
      " because of typing mistakes\n",
      "\"syntax errors\" may occurs \r",
      " because of typing mistakes\n"
     ]
    }
   ],
   "source": [
    "print ( \"\\\"syntax errors\\\" may occurs \\t because of typing mistakes\")\n",
    "print ( \"\\\"syntax errors\\\" may occurs \\n because of typing mistakes\")\n",
    "print ( \"\\\"syntax errors\\\" may occurs \\r because of typing mistakes\")"
   ]
  },
  {
   "cell_type": "code",
   "execution_count": 23,
   "metadata": {},
   "outputs": [
    {
     "name": "stdout",
     "output_type": "stream",
     "text": [
      "Student Name: M Usman,\n",
      "Student Age:20\n"
     ]
    }
   ],
   "source": [
    "print (\"Student Name: %s,\\nStudent Age:%d\" % ('M Usman',20))"
   ]
  },
  {
   "cell_type": "code",
   "execution_count": 24,
   "metadata": {},
   "outputs": [
    {
     "name": "stdout",
     "output_type": "stream",
     "text": [
      "Hello Pakistan!!\n"
     ]
    }
   ],
   "source": [
    "print (u'Hello Pakistan!!')"
   ]
  },
  {
   "cell_type": "code",
   "execution_count": 25,
   "metadata": {},
   "outputs": [
    {
     "name": "stdout",
     "output_type": "stream",
     "text": [
      "2\n"
     ]
    }
   ],
   "source": [
    "x = 'faclon f16'\n",
    "z =\"f\"\n",
    "print (x.count(z))"
   ]
  },
  {
   "cell_type": "code",
   "execution_count": 26,
   "metadata": {},
   "outputs": [
    {
     "name": "stdout",
     "output_type": "stream",
     "text": [
      "True\n"
     ]
    }
   ],
   "source": [
    "num=u'2019'\n",
    "print (num.isnumeric())"
   ]
  },
  {
   "cell_type": "code",
   "execution_count": 27,
   "metadata": {},
   "outputs": [
    {
     "name": "stdout",
     "output_type": "stream",
     "text": [
      "True\n",
      "False\n"
     ]
    }
   ],
   "source": [
    "print ('25'.isdigit())\n",
    "print ('ALI'.isdigit())"
   ]
  },
  {
   "cell_type": "code",
   "execution_count": 28,
   "metadata": {},
   "outputs": [
    {
     "name": "stdout",
     "output_type": "stream",
     "text": [
      "True\n",
      "False\n"
     ]
    }
   ],
   "source": [
    "num=u'2019'\n",
    "print (num.isdecimal())\n",
    "num=u'2019years'\n",
    "print (num.isdecimal())"
   ]
  },
  {
   "cell_type": "code",
   "execution_count": 29,
   "metadata": {},
   "outputs": [
    {
     "name": "stdout",
     "output_type": "stream",
     "text": [
      "True\n",
      "False\n"
     ]
    }
   ],
   "source": [
    "print (\"usman\".isalpha())\n",
    "print (\"usman123\".isalpha())"
   ]
  },
  {
   "cell_type": "code",
   "execution_count": 30,
   "metadata": {},
   "outputs": [
    {
     "name": "stdout",
     "output_type": "stream",
     "text": [
      "True\n",
      "True\n"
     ]
    }
   ],
   "source": [
    "print (\"usman\".isalnum())\n",
    "print (\"usman123\".isalnum())"
   ]
  },
  {
   "cell_type": "code",
   "execution_count": 31,
   "metadata": {},
   "outputs": [
    {
     "name": "stdout",
     "output_type": "stream",
     "text": [
      "   PIAIC\n",
      "###PIAIC\n"
     ]
    }
   ],
   "source": [
    "star='PIAIC'\n",
    "print (star.rjust(8))\n",
    "print (star.rjust(8,\"#\"))"
   ]
  },
  {
   "cell_type": "code",
   "execution_count": 32,
   "metadata": {},
   "outputs": [
    {
     "name": "stdout",
     "output_type": "stream",
     "text": [
      "PIAIC   \n",
      "PIAIC###\n"
     ]
    }
   ],
   "source": [
    "star='PIAIC'\n",
    "print (star.ljust(8))\n",
    "print (star.ljust(8,\"#\"))"
   ]
  },
  {
   "cell_type": "code",
   "execution_count": 33,
   "metadata": {},
   "outputs": [
    {
     "name": "stdout",
     "output_type": "stream",
     "text": [
      "               +PIAIC-AI+               \n",
      "***************+PIAIC-AI+***************\n"
     ]
    }
   ],
   "source": [
    "star =\"+PIAIC-AI+\"\n",
    "print (star.center(40))\n",
    "print (star.center(40,'*'))"
   ]
  },
  {
   "cell_type": "code",
   "execution_count": 34,
   "metadata": {},
   "outputs": [
    {
     "name": "stdout",
     "output_type": "stream",
     "text": [
      "+00000PIAIC-AI+\n",
      "+00000PIAIC-AI+\n"
     ]
    }
   ],
   "source": [
    "star =\"+PIAIC-AI+\"\n",
    "print (star.zfill(15))\n",
    "print (star.zfill(15))"
   ]
  },
  {
   "cell_type": "code",
   "execution_count": 35,
   "metadata": {},
   "outputs": [
    {
     "name": "stdout",
     "output_type": "stream",
     "text": [
      "['This', 'Game', 'is', 'going', 'crazy']\n",
      "['This', 'Game', 'is', 'going', 'crazy']\n",
      "['', '']\n",
      "['This Game is going crazy']\n"
     ]
    }
   ],
   "source": [
    "a = \"This Game is going crazy\"\n",
    "print(a.split())\n",
    "print(a.rsplit())\n",
    "print(a.split(a))\n",
    "print(a.splitlines())"
   ]
  },
  {
   "cell_type": "code",
   "execution_count": 36,
   "metadata": {},
   "outputs": [
    {
     "name": "stdout",
     "output_type": "stream",
     "text": [
      "3=12=18=24\n"
     ]
    }
   ],
   "source": [
    "series = ('3','12','18','24')\n",
    "seq = \"=\"\n",
    "print (seq.join(series))"
   ]
  },
  {
   "cell_type": "code",
   "execution_count": 37,
   "metadata": {},
   "outputs": [
    {
     "name": "stdout",
     "output_type": "stream",
     "text": [
      "This is a good game \n",
      "This is a good game*****\n",
      "*****This is a good game\n"
     ]
    }
   ],
   "source": [
    "var=' This is a good game '\n",
    "print (var.lstrip())\n",
    "var='*****This is a good game*****'\n",
    "print (var.lstrip('*'))\n",
    "var='*****This is a good game*****'\n",
    "print (var.rstrip('*'))"
   ]
  },
  {
   "cell_type": "code",
   "execution_count": 40,
   "metadata": {},
   "outputs": [
    {
     "name": "stdout",
     "output_type": "stream",
     "text": [
      "23\n"
     ]
    }
   ],
   "source": [
    "abc=\"weather is cloudy today\"\n",
    "print (len(abc))"
   ]
  },
  {
   "cell_type": "code",
   "execution_count": 54,
   "metadata": {},
   "outputs": [
    {
     "name": "stdout",
     "output_type": "stream",
     "text": [
      "ALI AZMAT\n"
     ]
    }
   ],
   "source": [
    "a =\"ALI AZMAT\"\n",
    "print(a.expandtabs(54))"
   ]
  },
  {
   "cell_type": "code",
   "execution_count": 39,
   "metadata": {},
   "outputs": [
    {
     "name": "stdout",
     "output_type": "stream",
     "text": [
      "<class 'str'>\n"
     ]
    }
   ],
   "source": [
    "print(type(abc))"
   ]
  },
  {
   "cell_type": "markdown",
   "metadata": {},
   "source": [
    "# THE END!!!"
   ]
  },
  {
   "cell_type": "code",
   "execution_count": null,
   "metadata": {},
   "outputs": [],
   "source": []
  }
 ],
 "metadata": {
  "kernelspec": {
   "display_name": "Python 3",
   "language": "python",
   "name": "python3"
  },
  "language_info": {
   "codemirror_mode": {
    "name": "ipython",
    "version": 3
   },
   "file_extension": ".py",
   "mimetype": "text/x-python",
   "name": "python",
   "nbconvert_exporter": "python",
   "pygments_lexer": "ipython3",
   "version": "3.7.3"
  }
 },
 "nbformat": 4,
 "nbformat_minor": 2
}
