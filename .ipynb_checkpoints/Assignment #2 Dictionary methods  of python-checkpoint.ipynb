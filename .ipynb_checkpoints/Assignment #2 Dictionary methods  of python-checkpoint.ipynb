{
 "cells": [
  {
   "cell_type": "markdown",
   "metadata": {},
   "source": [
    "# Dictionary methods and attributes of Python :"
   ]
  },
  {
   "cell_type": "code",
   "execution_count": 66,
   "metadata": {},
   "outputs": [
    {
     "data": {
      "text/plain": [
       "{1: 'cricket', 2: 'football', 3: 'baseball'}"
      ]
     },
     "execution_count": 66,
     "metadata": {},
     "output_type": "execute_result"
    }
   ],
   "source": [
    "empty_dict = {}\n",
    "num_dict = {1:\"cricket\",2:\"football\", 3:\"baseball\"}\n",
    "num_dict"
   ]
  },
  {
   "cell_type": "code",
   "execution_count": 67,
   "metadata": {},
   "outputs": [],
   "source": [
    "num_dict = {1:\"cricket\",2:\"football\", 3:\"baseball\"}\n"
   ]
  },
  {
   "cell_type": "code",
   "execution_count": 81,
   "metadata": {},
   "outputs": [
    {
     "name": "stdout",
     "output_type": "stream",
     "text": [
      "dict['Student Name']:  usman\n",
      "dict['Roll No.']:  252\n",
      "dict['Subject']:  Computer Science\n"
     ]
    }
   ],
   "source": [
    "bio = {'Student Name': 'M USMAN', 'Roll No.': 252, 'Subject': 'Computer Science'}\n",
    "print(\"dict['Student Name']: \", dict['Student Name'])\n",
    "print(\"dict['Roll No.']: \", dict['Roll No.'])\n",
    "print(\"dict['Subject']: \", dict['Subject'])"
   ]
  },
  {
   "cell_type": "code",
   "execution_count": 82,
   "metadata": {},
   "outputs": [
    {
     "name": "stdout",
     "output_type": "stream",
     "text": [
      "dict_keys(['Student Name', 'Roll No.', 'Subject'])\n"
     ]
    }
   ],
   "source": [
    "print(bio.keys())"
   ]
  },
  {
   "cell_type": "code",
   "execution_count": 83,
   "metadata": {},
   "outputs": [
    {
     "name": "stdout",
     "output_type": "stream",
     "text": [
      "dict_values(['M USMAN', 252, 'Computer Science'])\n"
     ]
    }
   ],
   "source": [
    "print(bio.values())"
   ]
  },
  {
   "cell_type": "code",
   "execution_count": 84,
   "metadata": {},
   "outputs": [
    {
     "name": "stdout",
     "output_type": "stream",
     "text": [
      "dict_items([('Student Name', 'M USMAN'), ('Roll No.', 252), ('Subject', 'Computer Science')])\n"
     ]
    }
   ],
   "source": [
    "print(bio.items())"
   ]
  },
  {
   "cell_type": "code",
   "execution_count": 85,
   "metadata": {},
   "outputs": [
    {
     "data": {
      "text/plain": [
       "dict"
      ]
     },
     "execution_count": 85,
     "metadata": {},
     "output_type": "execute_result"
    }
   ],
   "source": [
    "type(bio)"
   ]
  },
  {
   "cell_type": "code",
   "execution_count": 86,
   "metadata": {},
   "outputs": [
    {
     "name": "stdout",
     "output_type": "stream",
     "text": [
      "dict['Student Name']:  usman\n"
     ]
    }
   ],
   "source": [
    "dict = {'Student Name': 'ali', 'Roll No.': 252, 'Subject': 'Computer Science','Student Name': 'usman'}\n",
    "print(\"dict['Student Name']: \", dict['Student Name'])"
   ]
  },
  {
   "cell_type": "code",
   "execution_count": 87,
   "metadata": {},
   "outputs": [
    {
     "name": "stdout",
     "output_type": "stream",
     "text": [
      "<class 'dict'>\n"
     ]
    }
   ],
   "source": [
    "print(type(bio))"
   ]
  },
  {
   "cell_type": "code",
   "execution_count": 88,
   "metadata": {},
   "outputs": [
    {
     "name": "stdout",
     "output_type": "stream",
     "text": [
      "M USMAN\n",
      "Computer Science\n",
      "None\n"
     ]
    }
   ],
   "source": [
    "print(bio.get(\"Student Name\"))\n",
    "print(bio.get(\"Subject\"))\n",
    "print(bio.get(\"Roll No\"))"
   ]
  },
  {
   "cell_type": "code",
   "execution_count": 89,
   "metadata": {},
   "outputs": [
    {
     "name": "stdout",
     "output_type": "stream",
     "text": [
      "{'1': 'Python', '2': 'Java', '3': 'Rust'}\n",
      "{'1': 'Python', '2': 'Java', '3': 'Rust', '4': 'CSharp'}\n"
     ]
    }
   ],
   "source": [
    " dict_append = {\"1\" : \"Python\", \"2\" : \"Java\", \"3\" : \"Rust\"}\n",
    "print(dict_append)\n",
    "dict_append[\"4\"] = \"CSharp\"\n",
    "print(dict_append)"
   ]
  },
  {
   "cell_type": "code",
   "execution_count": 90,
   "metadata": {},
   "outputs": [
    {
     "name": "stdout",
     "output_type": "stream",
     "text": [
      "{'1': 'Python', '2': 'Java', '3': 'Rust', '4': 'CSharp', '5': 'JavaScript'}\n"
     ]
    }
   ],
   "source": [
    "dict_append.update({\"5\" : \"JavaScript\"})\n",
    "print(dict_append)"
   ]
  },
  {
   "cell_type": "code",
   "execution_count": 91,
   "metadata": {},
   "outputs": [
    {
     "name": "stdout",
     "output_type": "stream",
     "text": [
      "{1: 15, 2: 16, 3: 14, 4: 17, 5: 18}\n",
      "18\n",
      "{1: 15, 2: 16, 3: 14, 4: 17}\n",
      "(4, 17)\n",
      "{1: 15, 2: 16, 3: 14}\n",
      "{1: 15, 2: 16}\n"
     ]
    }
   ],
   "source": [
    "radius = {1:15,2:16,3:14,4:17,5:18}\n",
    "print(radius)\n",
    "\n",
    "\n",
    "print(radius.pop(5))\n",
    "print(radius)\n",
    "\n",
    "print(radius.popitem())\n",
    "print(radius)\n",
    "\n",
    "del radius[3]\n",
    "print(radius)\n",
    "\n",
    "del radius ;\n"
   ]
  },
  {
   "cell_type": "markdown",
   "metadata": {},
   "source": [
    "# THE END!!!\n",
    "        #for now..."
   ]
  }
 ],
 "metadata": {
  "kernelspec": {
   "display_name": "Python 3",
   "language": "python",
   "name": "python3"
  },
  "language_info": {
   "codemirror_mode": {
    "name": "ipython",
    "version": 3
   },
   "file_extension": ".py",
   "mimetype": "text/x-python",
   "name": "python",
   "nbconvert_exporter": "python",
   "pygments_lexer": "ipython3",
   "version": "3.7.3"
  }
 },
 "nbformat": 4,
 "nbformat_minor": 2
}
