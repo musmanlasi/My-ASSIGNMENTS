{
 "cells": [
  {
   "cell_type": "markdown",
   "metadata": {},
   "source": [
    "# Strings methods of Python :"
   ]
  },
  {
   "cell_type": "code",
   "execution_count": null,
   "metadata": {
    "scrolled": true
   },
   "outputs": [
    {
     "name": "stdout",
     "output_type": "stream",
     "text": [
      "   muhammad usman    \n",
      "   MUHAMMAD USMAN    \n",
      "   muhammad usman    \n",
      "   Muhammad Usman    \n",
      "   muhammad usman    \n",
      "     Muhammad Usman      \n",
      "4\n",
      "-1\n",
      "0\n",
      "3\n",
      "1\n",
      "b'   Muhammad Usman    '\n",
      "False\n",
      "False\n",
      "   Muhammad Usman    \n",
      "   Muhammad USMAN    \n",
      "   Muhammad Usman    \n",
      "['Muhammad', 'Usman']\n",
      "['Muhammad', 'Usman']\n",
      "['', '']\n",
      "['   Muhammad Usman    ']\n",
      "False\n",
      "0\n",
      "False\n",
      "False\n",
      "False\n",
      "False\n",
      "False\n",
      "True\n",
      "False\n",
      "False\n",
      "True\n",
      "False\n",
      "    Muhammad Usman        Muhammad Usman        Muhammad Usman    M   Muhammad Usman    u   Muhammad Usman    h   Muhammad Usman    a   Muhammad Usman    m   Muhammad Usman    m   Muhammad Usman    a   Muhammad Usman    d   Muhammad Usman        Muhammad Usman    U   Muhammad Usman    s   Muhammad Usman    m   Muhammad Usman    a   Muhammad Usman    n   Muhammad Usman        Muhammad Usman        Muhammad Usman        Muhammad Usman     \n",
      "Muhammad Usman    \n",
      "   Muhammad Usman\n",
      "   muhammad usman    \n",
      "('', '   Muhammad Usman    ', '')\n",
      "('', '   Muhammad Usman    ', '')\n",
      "0\n",
      "0\n",
      "   mUHAMMAD uSMAN    \n",
      "   Muhammad Usman    \n",
      "00000000000000000000000000000   Muhammad Usman    \n",
      "   Muhammad Usman    \n",
      "<class 'str'>\n",
      "'   Muhammad Usman    '\n",
      "True\n",
      "True\n",
      "True\n",
      "b''\n",
      "bytearray(b'')\n",
      "21\n"
     ]
    }
   ],
   "source": [
    "a = \"   Muhammad Usman    \"\n",
    "print(a.casefold())\n",
    "print(a.upper())\n",
    "print(a.capitalize())\n",
    "print(a.title())\n",
    "print(a.lower())\n",
    "print(a.center(25))\n",
    "print(a.find(\"u\"))\n",
    "print(a.find(\"w\"))\n",
    "print(a.count(\"06\"))\n",
    "print(a.count(\"m\"))\n",
    "print(a.count(\"n\"))\n",
    "print(a.encode())\n",
    "print(a.startswith(\" Muhammad\"))\n",
    "print(a.endswith(\"Usman\"))\n",
    "print(a.format(a))\n",
    "print(a.replace(\"Usman\",\"USMAN\"))\n",
    "print(a.format_map(a))\n",
    "print(a.split())\n",
    "print(a.rsplit())\n",
    "print(a.split(a))\n",
    "print(a.splitlines())\n",
    "print(a.isdigit())\n",
    "print(a.index(a))\n",
    "print(a.isalnum())\n",
    "print(a.isalpha())\n",
    "print(a.isdecimal())\n",
    "print(a.islower())\n",
    "print(a.isidentifier())\n",
    "print(a.isprintable())\n",
    "print(a.isnumeric())\n",
    "print(a.isspace())\n",
    "print(a.istitle())\n",
    "print(a.isupper())\n",
    "print(a.join(a))\n",
    "print(a.lstrip())\n",
    "print(a.rstrip())\n",
    "print(a.lower())\n",
    "print(a.partition(a))\n",
    "print(a.rpartition(a))\n",
    "print(a.rfind(a))\n",
    "print(a.rindex(a))\n",
    "print(a.swapcase())\n",
    "print(a.translate(a))\n",
    "print(a.zfill(50))\n",
    "print(a.expandtabs(45))\n",
    "print(type(a))\n",
    "print(ascii(a))\n",
    "print(any(a))\n",
    "print(bool(a))\n",
    "print(all(a))\n",
    "print(bytes())\n",
    "print(bytearray())\n",
    "float()\n",
    "print(len(a))\n",
    "input()\n",
    "print(reversed(a))\n",
    "print(int())\n",
    "print(iter(a))\n",
    "print(min(a))\n",
    "print(max(a))\n",
    "print(slice[6:5]) \n",
    "print(sorted(a)) \n",
    "print(zip(a)) \n",
    "\n",
    "\n",
    "\n",
    "\n",
    "\n"
   ]
  },
  {
   "cell_type": "code",
   "execution_count": null,
   "metadata": {},
   "outputs": [],
   "source": [
    "a = \"my name is muhammad usman and i am a pakistani\"\n",
    "print(a.rfind(\"am\"))\n",
    "print(a.rfind(\"usman\"))"
   ]
  },
  {
   "cell_type": "code",
   "execution_count": null,
   "metadata": {
    "scrolled": true
   },
   "outputs": [],
   "source": [
    "print(\"this course is based on these document files which effects.\",\"ok!\",sep=\"^^\"\n",
    ")\n",
    "print(\"this course is based on these document files which effects.\",\"ok!\",end =\"^^\"\n",
    ")\n",
    "print(\"this course is based on these document files which effects.\",\"ok!\",sep =\"******\"\n",
    ")"
   ]
  },
  {
   "cell_type": "code",
   "execution_count": null,
   "metadata": {},
   "outputs": [],
   "source": [
    "c = b.replace(\"document files\", \"tutorials\")\n",
    "print (c)"
   ]
  },
  {
   "cell_type": "code",
   "execution_count": null,
   "metadata": {},
   "outputs": [],
   "source": [
    "b = \"this course is based on these document files which effects.\"\n",
    "print(b[2]) \n",
    "print(b[19]) \n",
    "print(b[35]) "
   ]
  },
  {
   "cell_type": "code",
   "execution_count": null,
   "metadata": {},
   "outputs": [],
   "source": [
    "print(b[0:11]) \n",
    "print(b[15:29])\n",
    "print(b[30:45])"
   ]
  },
  {
   "cell_type": "code",
   "execution_count": null,
   "metadata": {},
   "outputs": [],
   "source": [
    "x = \"pakistan is going to enter the world of technological revolution\"\n",
    "print(x)\n",
    "x\n",
    "del (x)\n"
   ]
  },
  {
   "cell_type": "code",
   "execution_count": null,
   "metadata": {},
   "outputs": [],
   "source": [
    "q = \"opera \"\n",
    "r = \" mini\"\n",
    "print (q + r)"
   ]
  },
  {
   "cell_type": "code",
   "execution_count": null,
   "metadata": {},
   "outputs": [],
   "source": [
    "print(q*5)\n",
    "print(r*5)"
   ]
  },
  {
   "cell_type": "code",
   "execution_count": null,
   "metadata": {},
   "outputs": [],
   "source": [
    "print (q[1])\n",
    "print(q[1:4])"
   ]
  },
  {
   "cell_type": "code",
   "execution_count": null,
   "metadata": {},
   "outputs": [],
   "source": [
    "stars = 'Anaconda'\n",
    "print ('c' not in stars)\n",
    "print ('c'in stars)\n",
    "print ('z'in stars)"
   ]
  },
  {
   "cell_type": "code",
   "execution_count": null,
   "metadata": {},
   "outputs": [],
   "source": [
    "print (R'\\n')"
   ]
  },
  {
   "cell_type": "code",
   "execution_count": null,
   "metadata": {},
   "outputs": [],
   "source": [
    "print ( \"\\\"syntax errors\\\" may occurs because of typing mistakes\")"
   ]
  },
  {
   "cell_type": "code",
   "execution_count": null,
   "metadata": {},
   "outputs": [],
   "source": [
    "print ( \"\\\"syntax errors\\\" may occurs \\t because of typing mistakes\")\n",
    "print ( \"\\\"syntax errors\\\" may occurs \\n because of typing mistakes\")\n",
    "print ( \"\\\"syntax errors\\\" may occurs \\r because of typing mistakes\")"
   ]
  },
  {
   "cell_type": "code",
   "execution_count": null,
   "metadata": {},
   "outputs": [],
   "source": [
    "print (\"Student Name: %s,\\nStudent Age:%d\" % ('M Usman',20))"
   ]
  },
  {
   "cell_type": "code",
   "execution_count": null,
   "metadata": {},
   "outputs": [],
   "source": [
    "print (u'Hello Pakistan!!')"
   ]
  },
  {
   "cell_type": "code",
   "execution_count": null,
   "metadata": {},
   "outputs": [],
   "source": [
    "x = 'faclon f16'\n",
    "z =\"f\"\n",
    "print (x.count(z))"
   ]
  },
  {
   "cell_type": "code",
   "execution_count": null,
   "metadata": {},
   "outputs": [],
   "source": [
    "num=u'2016'\n",
    "print (num.isnumeric())"
   ]
  },
  {
   "cell_type": "code",
   "execution_count": null,
   "metadata": {},
   "outputs": [],
   "source": []
  }
 ],
 "metadata": {
  "kernelspec": {
   "display_name": "Python 3",
   "language": "python",
   "name": "python3"
  },
  "language_info": {
   "codemirror_mode": {
    "name": "ipython",
    "version": 3
   },
   "file_extension": ".py",
   "mimetype": "text/x-python",
   "name": "python",
   "nbconvert_exporter": "python",
   "pygments_lexer": "ipython3",
   "version": "3.7.3"
  }
 },
 "nbformat": 4,
 "nbformat_minor": 2
}
